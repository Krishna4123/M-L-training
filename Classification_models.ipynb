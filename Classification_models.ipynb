{
  "nbformat": 4,
  "nbformat_minor": 0,
  "metadata": {
    "colab": {
      "provenance": [],
      "authorship_tag": "ABX9TyMolxjHvQ2scjIg/Ks7TRNQ",
      "include_colab_link": true
    },
    "kernelspec": {
      "name": "python3",
      "display_name": "Python 3"
    },
    "language_info": {
      "name": "python"
    }
  },
  "cells": [
    {
      "cell_type": "markdown",
      "metadata": {
        "id": "view-in-github",
        "colab_type": "text"
      },
      "source": [
        "<a href=\"https://colab.research.google.com/github/Krishna4123/M-L-training/blob/main/Classification_models.ipynb\" target=\"_parent\"><img src=\"https://colab.research.google.com/assets/colab-badge.svg\" alt=\"Open In Colab\"/></a>"
      ]
    },
    {
      "cell_type": "code",
      "execution_count": 1,
      "metadata": {
        "id": "o5CNefZWx5fm"
      },
      "outputs": [],
      "source": [
        "import pandas as pd\n",
        "import numpy as np\n",
        "import matplotlib.pyplot as pyplot"
      ]
    },
    {
      "cell_type": "code",
      "source": [
        "dataset = pd.read_csv('csv_result-PhishingData.csv')\n",
        "X = dataset.iloc[:, :-1].values\n",
        "y = dataset.iloc[:, -1].values"
      ],
      "metadata": {
        "id": "JEAMLt4T5Dvl"
      },
      "execution_count": 2,
      "outputs": []
    },
    {
      "cell_type": "code",
      "source": [
        "print(dataset.head())\n",
        "print(dataset.describe())\n"
      ],
      "metadata": {
        "id": "KtnI05Ob6To7"
      },
      "execution_count": null,
      "outputs": []
    },
    {
      "cell_type": "code",
      "source": [
        "from sklearn.model_selection import train_test_split\n",
        "Xtrain,Xtest,ytrain,ytest = train_test_split(X, y,test_size=0.25,random_state=0)"
      ],
      "metadata": {
        "id": "BAw5NnP463CR"
      },
      "execution_count": 9,
      "outputs": []
    },
    {
      "cell_type": "code",
      "source": [
        "print(Xtrain)\n",
        "print(ytrain)\n",
        "print(Xtest)\n",
        "print(ytest)"
      ],
      "metadata": {
        "collapsed": true,
        "id": "dnA0ea1S8KS7"
      },
      "execution_count": null,
      "outputs": []
    },
    {
      "cell_type": "markdown",
      "source": [
        "Feature Scaling"
      ],
      "metadata": {
        "id": "2gUP1t_u8wSG"
      }
    },
    {
      "cell_type": "code",
      "source": [
        "from sklearn.preprocessing import StandardScaler\n",
        "sc = StandardScaler()\n",
        "Xtrain = sc.fit_transform(Xtrain)\n",
        "Xtest = sc.transform(Xtest)"
      ],
      "metadata": {
        "id": "hy8RMu9u8fZj"
      },
      "execution_count": null,
      "outputs": []
    },
    {
      "cell_type": "markdown",
      "source": [
        "Logistic regression classification Model training"
      ],
      "metadata": {
        "id": "218SbSZu9ILa"
      }
    },
    {
      "cell_type": "code",
      "source": [
        "from sklearn.linear_model import LogisticRegression\n",
        "classifier_logistic = LogisticRegression(random_state = 0)\n",
        "classifier_logistic.fit(Xtrain, ytrain)"
      ],
      "metadata": {
        "id": "8KllJYIV8tbP"
      },
      "execution_count": null,
      "outputs": []
    },
    {
      "cell_type": "markdown",
      "source": [
        "K-nearest neighbour classification Model training"
      ],
      "metadata": {
        "id": "8Q3xC5Ka9yZx"
      }
    },
    {
      "cell_type": "code",
      "source": [
        "from sklearn.neighbors import KNeighborsClassifier\n",
        "classifier_KNN = KNeighborsClassifier(n_neighbors = 5, metric = 'minkowski', p = 2)\n",
        "classifier_KNN.fit(Xtrain, ytrain)"
      ],
      "metadata": {
        "id": "z1SGk7-097sS"
      },
      "execution_count": null,
      "outputs": []
    },
    {
      "cell_type": "markdown",
      "source": [
        "SVM classification Model training"
      ],
      "metadata": {
        "id": "20MhvrpY-UVF"
      }
    },
    {
      "cell_type": "code",
      "source": [
        "from sklearn.svm import SVC\n",
        "classifier_SVM= SVC(kernel = 'linear', random_state = 0)\n",
        "classifier_SVM.fit(Xtrain, ytrain)"
      ],
      "metadata": {
        "id": "QwMaFC5y-fAX"
      },
      "execution_count": null,
      "outputs": []
    },
    {
      "cell_type": "markdown",
      "source": [
        "Kernel SVM classification Model training"
      ],
      "metadata": {
        "id": "Q-ZCVTBU-tic"
      }
    },
    {
      "cell_type": "code",
      "source": [
        "from sklearn.svm import SVC\n",
        "classifier_KSVM = SVC(kernel = 'rbf', random_state = 0)\n",
        "classifier_KSVM.fit(Xtrain, ytrain)"
      ],
      "metadata": {
        "id": "L53K8hrM_hBD"
      },
      "execution_count": null,
      "outputs": []
    },
    {
      "cell_type": "markdown",
      "source": [
        "Naive-Bayes classification Model training"
      ],
      "metadata": {
        "id": "bNms9PpW_l-c"
      }
    },
    {
      "cell_type": "code",
      "source": [
        "from sklearn.naive_bayes import GaussianNB\n",
        "classifier_NB = GaussianNB()\n",
        "classifier_NB.fit(Xtrain, ytrain)"
      ],
      "metadata": {
        "id": "L7jHvPux_4Er"
      },
      "execution_count": null,
      "outputs": []
    },
    {
      "cell_type": "markdown",
      "source": [
        "Desicion Tree Classification Model training"
      ],
      "metadata": {
        "id": "59RHYH3VEKyx"
      }
    },
    {
      "cell_type": "code",
      "source": [
        "from sklearn.tree import DecisionTreeClassifier\n",
        "classifier_DesTree= DecisionTreeClassifier(criterion = 'entropy', random_state = 0)\n",
        "classifier_DesTree.fit(Xtrain, ytrain)"
      ],
      "metadata": {
        "id": "CUzJQWjlAeXj"
      },
      "execution_count": null,
      "outputs": []
    },
    {
      "cell_type": "markdown",
      "source": [
        "Random Forest Tree classification Model training"
      ],
      "metadata": {
        "id": "A98zuKlxAluD"
      }
    },
    {
      "cell_type": "code",
      "source": [
        "from sklearn.ensemble import RandomForestClassifier\n",
        "classifier_RanFores = RandomForestClassifier(n_estimators = 10, criterion = 'entropy', random_state = 0)\n",
        "classifier_RanFores.fit(Xtrain, ytrain)"
      ],
      "metadata": {
        "id": "fcqyjiiNAwc3"
      },
      "execution_count": null,
      "outputs": []
    },
    {
      "cell_type": "markdown",
      "source": [
        "Prediction using all trained models"
      ],
      "metadata": {
        "id": "9fkaHjU1BT68"
      }
    },
    {
      "cell_type": "code",
      "source": [
        "ypred_logistic = classifier_logistic.predict(Xtest)\n",
        "ypred_SVM = classifier_SVM.predict(Xtest)\n",
        "ypred_KSVM = classifier_KSVM.predict(Xtest)\n",
        "ypred_DesTree = classifier_DesTree.predict(Xtest)\n",
        "ypred_RanFores = classifier_RanFores.predict(Xtest)\n",
        "ypred_NB = classifier_NB.predict(Xtest)\n",
        "ypred_KNN = classifier_KNN.predict(Xtest)"
      ],
      "metadata": {
        "id": "A6Ej1vUlBaAS"
      },
      "execution_count": null,
      "outputs": []
    },
    {
      "cell_type": "markdown",
      "source": [
        "Accuracy Testing"
      ],
      "metadata": {
        "id": "6aEBM67ACdpm"
      }
    },
    {
      "cell_type": "code",
      "source": [
        "from sklearn.metrics import confusion_matrix, accuracy_score, precision_score, recall_score, f1_score\n",
        "models = {\n",
        "    \"Logistic Regression\": ypred_logistic,\n",
        "    \"SVM\": ypred_SVM,\n",
        "    \"Kernel SVM\": ypred_KSVM,\n",
        "    \"Decision Tree\": ypred_DesTree,\n",
        "    \"Random Forest\": ypred_RanFores,\n",
        "    \"Naive Bayes\": ypred_NB,\n",
        "    \"K-Nearest Neighbors\": ypred_KNN\n",
        "}\n",
        "model_performance = {}\n",
        "print(\"Model Performance Comparison:\\n\")\n",
        "for model_name, y_pred in models.items():\n",
        "    accuracy = accuracy_score(ytest, y_pred)\n",
        "    precision = precision_score(ytest, y_pred, average='weighted')\n",
        "    recall = recall_score(ytest, y_pred, average='weighted')\n",
        "    f1 = f1_score(ytest, y_pred, average='weighted')\n",
        "\n",
        "    model_performance[model_name] = {\n",
        "        \"Accuracy\": accuracy,\n",
        "        \"Precision\": precision,\n",
        "        \"Recall\": recall,\n",
        "        \"F1 Score\": f1\n",
        "    }\n",
        "\n",
        "    print(f\"{model_name}:\\nConfusion Matrix:\\n{confusion_matrix(ytest, y_pred)}\")\n",
        "    print(f\"Accuracy: {accuracy:.4f}\")\n",
        "    print(f\"Precision: {precision:.4f}\")\n",
        "    print(f\"Recall: {recall:.4f}\")\n",
        "    print(f\"F1 Score: {f1:.4f}\\n\")\n"
      ],
      "metadata": {
        "id": "Gnyob_PECpMn"
      },
      "execution_count": null,
      "outputs": []
    },
    {
      "cell_type": "markdown",
      "source": [
        "Result that shows the best classification model for your input dataset."
      ],
      "metadata": {
        "id": "oGUU38ZiEXmH"
      }
    },
    {
      "cell_type": "code",
      "source": [
        "best_model = max(model_performance, key=lambda x: model_performance[x][\"Accuracy\"])\n",
        "\n",
        "print(f\"The best model is: {best_model} with an accuracy of {model_performance[best_model]['Accuracy']:.4f}\")\n"
      ],
      "metadata": {
        "id": "mF0vRvfUEezI"
      },
      "execution_count": null,
      "outputs": []
    }
  ]
}